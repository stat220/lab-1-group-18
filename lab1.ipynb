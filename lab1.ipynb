{
 "cells": [
  {
   "cell_type": "markdown",
   "id": "5c53a59d5d231543",
   "metadata": {},
   "source": [
    "# Lab 1"
   ]
  },
  {
   "cell_type": "code",
   "id": "674513ff",
   "metadata": {
    "ExecuteTime": {
     "end_time": "2024-09-13T20:35:56.747798Z",
     "start_time": "2024-09-13T20:35:56.056122Z"
    }
   },
   "source": [
    "import numpy as np\n",
    "import matplotlib.pyplot as plt\n",
    "import pandas as pd\n",
    "import scipy.stats as stats\n",
    "from sklearn.linear_model import LinearRegression\n",
    "\n",
    "df = pd.read_csv('ds_salary.csv')"
   ],
   "outputs": [],
   "execution_count": 26
  },
  {
   "cell_type": "markdown",
   "id": "facbc73e34d1b2e2",
   "metadata": {},
   "source": [
    "## 1. General Salary Data\n",
    "Start by plotting and describing the general shape of the salary data. This initial\n",
    "step sets the foundation for your analysis."
   ]
  },
  {
   "cell_type": "code",
   "execution_count": 3,
   "id": "initial_id",
   "metadata": {
    "collapsed": true
   },
   "outputs": [
    {
     "data": {
      "text/html": [
       "<div>\n",
       "<style scoped>\n",
       "    .dataframe tbody tr th:only-of-type {\n",
       "        vertical-align: middle;\n",
       "    }\n",
       "\n",
       "    .dataframe tbody tr th {\n",
       "        vertical-align: top;\n",
       "    }\n",
       "\n",
       "    .dataframe thead th {\n",
       "        text-align: right;\n",
       "    }\n",
       "</style>\n",
       "<table border=\"1\" class=\"dataframe\">\n",
       "  <thead>\n",
       "    <tr style=\"text-align: right;\">\n",
       "      <th></th>\n",
       "      <th>...1</th>\n",
       "      <th>work_year</th>\n",
       "      <th>experience_level</th>\n",
       "      <th>employment_type</th>\n",
       "      <th>job_title</th>\n",
       "      <th>salary</th>\n",
       "      <th>salary_currency</th>\n",
       "      <th>salary_in_usd</th>\n",
       "      <th>employee_residence</th>\n",
       "      <th>remote_ratio</th>\n",
       "      <th>company_location</th>\n",
       "      <th>company_size</th>\n",
       "    </tr>\n",
       "  </thead>\n",
       "  <tbody>\n",
       "    <tr>\n",
       "      <th>0</th>\n",
       "      <td>0</td>\n",
       "      <td>2020</td>\n",
       "      <td>MI</td>\n",
       "      <td>FT</td>\n",
       "      <td>Data Scientist</td>\n",
       "      <td>70000</td>\n",
       "      <td>EUR</td>\n",
       "      <td>79833</td>\n",
       "      <td>DE</td>\n",
       "      <td>0</td>\n",
       "      <td>DE</td>\n",
       "      <td>L</td>\n",
       "    </tr>\n",
       "    <tr>\n",
       "      <th>1</th>\n",
       "      <td>1</td>\n",
       "      <td>2020</td>\n",
       "      <td>SE</td>\n",
       "      <td>FT</td>\n",
       "      <td>Machine Learning Scientist</td>\n",
       "      <td>260000</td>\n",
       "      <td>USD</td>\n",
       "      <td>260000</td>\n",
       "      <td>JP</td>\n",
       "      <td>0</td>\n",
       "      <td>JP</td>\n",
       "      <td>S</td>\n",
       "    </tr>\n",
       "    <tr>\n",
       "      <th>2</th>\n",
       "      <td>2</td>\n",
       "      <td>2020</td>\n",
       "      <td>SE</td>\n",
       "      <td>FT</td>\n",
       "      <td>Big Data Engineer</td>\n",
       "      <td>85000</td>\n",
       "      <td>GBP</td>\n",
       "      <td>109024</td>\n",
       "      <td>GB</td>\n",
       "      <td>50</td>\n",
       "      <td>GB</td>\n",
       "      <td>M</td>\n",
       "    </tr>\n",
       "    <tr>\n",
       "      <th>3</th>\n",
       "      <td>3</td>\n",
       "      <td>2020</td>\n",
       "      <td>MI</td>\n",
       "      <td>FT</td>\n",
       "      <td>Product Data Analyst</td>\n",
       "      <td>20000</td>\n",
       "      <td>USD</td>\n",
       "      <td>20000</td>\n",
       "      <td>HN</td>\n",
       "      <td>0</td>\n",
       "      <td>HN</td>\n",
       "      <td>S</td>\n",
       "    </tr>\n",
       "    <tr>\n",
       "      <th>4</th>\n",
       "      <td>4</td>\n",
       "      <td>2020</td>\n",
       "      <td>SE</td>\n",
       "      <td>FT</td>\n",
       "      <td>Machine Learning Engineer</td>\n",
       "      <td>150000</td>\n",
       "      <td>USD</td>\n",
       "      <td>150000</td>\n",
       "      <td>US</td>\n",
       "      <td>50</td>\n",
       "      <td>US</td>\n",
       "      <td>L</td>\n",
       "    </tr>\n",
       "    <tr>\n",
       "      <th>...</th>\n",
       "      <td>...</td>\n",
       "      <td>...</td>\n",
       "      <td>...</td>\n",
       "      <td>...</td>\n",
       "      <td>...</td>\n",
       "      <td>...</td>\n",
       "      <td>...</td>\n",
       "      <td>...</td>\n",
       "      <td>...</td>\n",
       "      <td>...</td>\n",
       "      <td>...</td>\n",
       "      <td>...</td>\n",
       "    </tr>\n",
       "    <tr>\n",
       "      <th>576</th>\n",
       "      <td>602</td>\n",
       "      <td>2022</td>\n",
       "      <td>SE</td>\n",
       "      <td>FT</td>\n",
       "      <td>Data Engineer</td>\n",
       "      <td>154000</td>\n",
       "      <td>USD</td>\n",
       "      <td>154000</td>\n",
       "      <td>US</td>\n",
       "      <td>100</td>\n",
       "      <td>US</td>\n",
       "      <td>M</td>\n",
       "    </tr>\n",
       "    <tr>\n",
       "      <th>577</th>\n",
       "      <td>603</td>\n",
       "      <td>2022</td>\n",
       "      <td>SE</td>\n",
       "      <td>FT</td>\n",
       "      <td>Data Engineer</td>\n",
       "      <td>126000</td>\n",
       "      <td>USD</td>\n",
       "      <td>126000</td>\n",
       "      <td>US</td>\n",
       "      <td>100</td>\n",
       "      <td>US</td>\n",
       "      <td>M</td>\n",
       "    </tr>\n",
       "    <tr>\n",
       "      <th>578</th>\n",
       "      <td>604</td>\n",
       "      <td>2022</td>\n",
       "      <td>SE</td>\n",
       "      <td>FT</td>\n",
       "      <td>Data Analyst</td>\n",
       "      <td>129000</td>\n",
       "      <td>USD</td>\n",
       "      <td>129000</td>\n",
       "      <td>US</td>\n",
       "      <td>0</td>\n",
       "      <td>US</td>\n",
       "      <td>M</td>\n",
       "    </tr>\n",
       "    <tr>\n",
       "      <th>579</th>\n",
       "      <td>605</td>\n",
       "      <td>2022</td>\n",
       "      <td>SE</td>\n",
       "      <td>FT</td>\n",
       "      <td>Data Analyst</td>\n",
       "      <td>150000</td>\n",
       "      <td>USD</td>\n",
       "      <td>150000</td>\n",
       "      <td>US</td>\n",
       "      <td>100</td>\n",
       "      <td>US</td>\n",
       "      <td>M</td>\n",
       "    </tr>\n",
       "    <tr>\n",
       "      <th>580</th>\n",
       "      <td>606</td>\n",
       "      <td>2022</td>\n",
       "      <td>MI</td>\n",
       "      <td>FT</td>\n",
       "      <td>AI Scientist</td>\n",
       "      <td>200000</td>\n",
       "      <td>USD</td>\n",
       "      <td>200000</td>\n",
       "      <td>IN</td>\n",
       "      <td>100</td>\n",
       "      <td>US</td>\n",
       "      <td>L</td>\n",
       "    </tr>\n",
       "  </tbody>\n",
       "</table>\n",
       "<p>581 rows × 12 columns</p>\n",
       "</div>"
      ],
      "text/plain": [
       "     ...1  work_year experience_level employment_type  \\\n",
       "0       0       2020               MI              FT   \n",
       "1       1       2020               SE              FT   \n",
       "2       2       2020               SE              FT   \n",
       "3       3       2020               MI              FT   \n",
       "4       4       2020               SE              FT   \n",
       "..    ...        ...              ...             ...   \n",
       "576   602       2022               SE              FT   \n",
       "577   603       2022               SE              FT   \n",
       "578   604       2022               SE              FT   \n",
       "579   605       2022               SE              FT   \n",
       "580   606       2022               MI              FT   \n",
       "\n",
       "                      job_title  salary salary_currency  salary_in_usd  \\\n",
       "0                Data Scientist   70000             EUR          79833   \n",
       "1    Machine Learning Scientist  260000             USD         260000   \n",
       "2             Big Data Engineer   85000             GBP         109024   \n",
       "3          Product Data Analyst   20000             USD          20000   \n",
       "4     Machine Learning Engineer  150000             USD         150000   \n",
       "..                          ...     ...             ...            ...   \n",
       "576               Data Engineer  154000             USD         154000   \n",
       "577               Data Engineer  126000             USD         126000   \n",
       "578                Data Analyst  129000             USD         129000   \n",
       "579                Data Analyst  150000             USD         150000   \n",
       "580                AI Scientist  200000             USD         200000   \n",
       "\n",
       "    employee_residence  remote_ratio company_location company_size  \n",
       "0                   DE             0               DE            L  \n",
       "1                   JP             0               JP            S  \n",
       "2                   GB            50               GB            M  \n",
       "3                   HN             0               HN            S  \n",
       "4                   US            50               US            L  \n",
       "..                 ...           ...              ...          ...  \n",
       "576                 US           100               US            M  \n",
       "577                 US           100               US            M  \n",
       "578                 US             0               US            M  \n",
       "579                 US           100               US            M  \n",
       "580                 IN           100               US            L  \n",
       "\n",
       "[581 rows x 12 columns]"
      ]
     },
     "execution_count": 3,
     "metadata": {},
     "output_type": "execute_result"
    }
   ],
   "source": []
  },
  {
   "cell_type": "markdown",
   "id": "cbdd02cf42b91413",
   "metadata": {},
   "source": [
    "## 2. Effect of Experience on Salary\n",
    "Investigate how experience influences data scientist salaries. Create visualizations or\n",
    "tables to illustrate any trends or patterns."
   ]
  },
  {
   "cell_type": "code",
   "execution_count": null,
   "id": "2b4af3b27b877637",
   "metadata": {},
   "outputs": [],
   "source": []
  },
  {
   "cell_type": "markdown",
   "id": "f0a6c5ce2759c89a",
   "metadata": {},
   "source": [
    "## 3. Impact of Company Size on Salary\n",
    "Explore how company size affects data scientist salaries. Generate plots or tables to\n",
    "visualize this relationship."
   ]
  },
  {
   "cell_type": "code",
   "id": "877a42bf2fa06294",
   "metadata": {
    "ExecuteTime": {
     "end_time": "2024-09-13T20:42:16.573753Z",
     "start_time": "2024-09-13T20:42:16.291932Z"
    }
   },
   "source": [
    "# Mean salary by company size\n",
    "mean_salaries = df.groupby('company_size')['salary_in_usd'].mean()\n",
    "mean_salaries.plot(kind='barh', color='skyblue')\n",
    "plt.title('Mean Salary by Company Size')\n",
    "plt.xlabel('Mean Salary (USD)')\n",
    "plt.ylabel('Company Size')\n",
    "plt.show()\n",
    "\n",
    "# Boxplots showing how company size influences salary\n",
    "df.boxplot(column='salary_in_usd', by='company_size', vert=False)\n",
    "plt.title('Salary Distribution by Company Size')\n",
    "plt.suptitle('') \n",
    "plt.xlabel('Salary (USD)')\n",
    "plt.ylabel('Company Size')\n",
    "plt.show()\n",
    "\n",
    "# Anova\n",
    "f_value, p_value = stats.f_oneway(\n",
    "    df[df['company_size'] == 'L']['salary_in_usd'],\n",
    "    df[df['company_size'] == 'M']['salary_in_usd'],\n",
    "    df[df['company_size'] == 'S']['salary_in_usd']\n",
    ")\n",
    "\n",
    "print(f\"F-value: {f_value}, P-value: {p_value}\")\n"
   ],
   "outputs": [
    {
     "data": {
      "text/plain": [
       "<Figure size 640x480 with 1 Axes>"
      ],
      "image/png": "[encoded data removed]"
     },
     "metadata": {},
     "output_type": "display_data"
    },
    {
     "data": {
      "text/plain": [
       "<Figure size 640x480 with 1 Axes>"
      ],
      "image/png": "[encoded data removed]"
     },
     "metadata": {},
     "output_type": "display_data"
    },
    {
     "name": "stdout",
     "output_type": "stream",
     "text": [
      "F-value: 12.765998591696347, P-value: 3.756285988564403e-06\n"
     ]
    }
   ],
   "execution_count": 32
  },
  {
   "metadata": {},
   "cell_type": "markdown",
   "source": [
    "The first plot shows the mean salaries between the different companies, this shows that while smaller companies pay lower salaries, the medium and large companies pay similar salaries.\n",
    "\n",
    "The second plot is a box plot, which helps us to see the outliers, which shows us that the larger company actually has a lower mean salary when not considering outliers.\n",
    "\n",
    "Last is a one-way anova analysis, which gives us an F-value of 12.765 and a P-value of 3.756e-06. The high F-value tells us that the variance between the groups are higher than the variance of the salaries within the groups. This signifies that the group means differ. The extremely low P-value tells us that there is a significant difference between the size of the company you work for.\n",
    "\n",
    "In conclusion, if you work at a larger company, you are more likely to make more money."
   ],
   "id": "fe0f5dc692dd9451"
  },
  {
   "cell_type": "markdown",
   "id": "a784ededf6cb2489",
   "metadata": {},
   "source": [
    "## 4. Job Title Analysis\n",
    "Job titles can vary significantly. For this project, select a keyword or phrase to distinguish\n",
    "between different job titles. For instance, you can differentiate between job\n",
    "titles containing the word ”Analyst” and those that do not. To achieve this, you may\n",
    "find the str.contains function in Pandas helpful. Refer to this resource for examples:\n",
    "https://www.geeksforgeeks.org/python-pandas-series-str-contains. Explore\n",
    "various job titles to decide on the keyword or phrase you want to focus on."
   ]
  },
  {
   "cell_type": "code",
   "execution_count": null,
   "id": "78abdba0998b157b",
   "metadata": {},
   "outputs": [],
   "source": []
  },
  {
   "cell_type": "markdown",
   "id": "72690738646830b",
   "metadata": {},
   "source": [
    "## 5. Interactions Between Relationships\n",
    "Investigate potential interactions between the three factors (experience, company size,\n",
    "and job title). Create a two-way table that displays essential statistics at the intersection\n",
    "of two variables. For instance, construct a table with job titles on the left,\n",
    "company sizes at the top, and each cell representing the mean salary for each job\n",
    "title/company size combination."
   ]
  },
  {
   "cell_type": "code",
   "execution_count": null,
   "id": "7a46e74a4f67520d",
   "metadata": {},
   "outputs": [],
   "source": []
  },
  {
   "cell_type": "markdown",
   "id": "de6405b0b0403f3e",
   "metadata": {},
   "source": [
    "## 6. Conclusion\n",
    "Summarize your findings by listing all significant relationships you have discovered\n",
    "during your analysis."
   ]
  },
  {
   "cell_type": "markdown",
   "id": "9c96334fe2581061",
   "metadata": {},
   "source": []
  },
  {
   "cell_type": "code",
   "execution_count": null,
   "id": "7b31b1c867c99c04",
   "metadata": {},
   "outputs": [],
   "source": []
  }
 ],
 "metadata": {
  "kernelspec": {
   "display_name": "Python 3",
   "language": "python",
   "name": "python3"
  },
  "language_info": {
   "codemirror_mode": {
    "name": "ipython",
    "version": 3
   },
   "file_extension": ".py",
   "mimetype": "text/x-python",
   "name": "python",
   "nbconvert_exporter": "python",
   "pygments_lexer": "ipython3",
   "version": "3.12.4"
  }
 },
 "nbformat": 4,
 "nbformat_minor": 5
}
