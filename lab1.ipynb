{
 "cells": [
  {
   "metadata": {},
   "cell_type": "markdown",
   "source": "# Lab 1",
   "id": "5c53a59d5d231543"
  },
  {
   "metadata": {},
   "cell_type": "markdown",
   "source": [
    "## 1. General Salary Data\n",
    "Start by plotting and describing the general shape of the salary data. This initial\n",
    "step sets the foundation for your analysis."
   ],
   "id": "facbc73e34d1b2e2"
  },
  {
   "cell_type": "code",
   "execution_count": null,
   "id": "initial_id",
   "metadata": {
    "collapsed": true
   },
   "outputs": [],
   "source": [
    ""
   ]
  },
  {
   "metadata": {},
   "cell_type": "markdown",
   "source": [
    "## 2. Effect of Experience on Salary\n",
    "Investigate how experience influences data scientist salaries. Create visualizations or\n",
    "tables to illustrate any trends or patterns."
   ],
   "id": "cbdd02cf42b91413"
  },
  {
   "metadata": {},
   "cell_type": "code",
   "outputs": [],
   "execution_count": null,
   "source": "",
   "id": "2b4af3b27b877637"
  },
  {
   "metadata": {},
   "cell_type": "markdown",
   "source": [
    "## 3. Impact of Company Size on Salary\n",
    "Explore how company size affects data scientist salaries. Generate plots or tables to\n",
    "visualize this relationship."
   ],
   "id": "f0a6c5ce2759c89a"
  },
  {
   "metadata": {},
   "cell_type": "code",
   "outputs": [],
   "execution_count": null,
   "source": "",
   "id": "877a42bf2fa06294"
  },
  {
   "metadata": {},
   "cell_type": "markdown",
   "source": [
    "## 4. Job Title Analysis\n",
    "Job titles can vary significantly. For this project, select a keyword or phrase to distinguish\n",
    "between different job titles. For instance, you can differentiate between job\n",
    "titles containing the word ”Analyst” and those that do not. To achieve this, you may\n",
    "find the str.contains function in Pandas helpful. Refer to this resource for examples:\n",
    "https://www.geeksforgeeks.org/python-pandas-series-str-contains. Explore\n",
    "various job titles to decide on the keyword or phrase you want to focus on."
   ],
   "id": "a784ededf6cb2489"
  },
  {
   "metadata": {},
   "cell_type": "code",
   "outputs": [],
   "execution_count": null,
   "source": "",
   "id": "78abdba0998b157b"
  },
  {
   "metadata": {},
   "cell_type": "markdown",
   "source": [
    "## 5. Interactions Between Relationships\n",
    "Investigate potential interactions between the three factors (experience, company size,\n",
    "and job title). Create a two-way table that displays essential statistics at the intersection\n",
    "of two variables. For instance, construct a table with job titles on the left,\n",
    "company sizes at the top, and each cell representing the mean salary for each job\n",
    "title/company size combination."
   ],
   "id": "72690738646830b"
  },
  {
   "metadata": {},
   "cell_type": "code",
   "outputs": [],
   "execution_count": null,
   "source": "",
   "id": "7a46e74a4f67520d"
  },
  {
   "metadata": {},
   "cell_type": "markdown",
   "source": [
    "## 6. Conclusion\n",
    "Summarize your findings by listing all significant relationships you have discovered\n",
    "during your analysis."
   ],
   "id": "de6405b0b0403f3e"
  },
  {
   "metadata": {},
   "cell_type": "markdown",
   "source": "",
   "id": "9c96334fe2581061"
  },
  {
   "metadata": {},
   "cell_type": "code",
   "outputs": [],
   "execution_count": null,
   "source": "",
   "id": "7b31b1c867c99c04"
  }
 ],
 "metadata": {
  "kernelspec": {
   "display_name": "Python 3",
   "language": "python",
   "name": "python3"
  },
  "language_info": {
   "codemirror_mode": {
    "name": "ipython",
    "version": 2
   },
   "file_extension": ".py",
   "mimetype": "text/x-python",
   "name": "python",
   "nbconvert_exporter": "python",
   "pygments_lexer": "ipython2",
   "version": "2.7.6"
  }
 },
 "nbformat": 4,
 "nbformat_minor": 5
}
